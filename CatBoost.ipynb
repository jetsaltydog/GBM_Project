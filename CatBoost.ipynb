{
 "cells": [
  {
   "cell_type": "code",
   "execution_count": 3,
   "metadata": {},
   "outputs": [],
   "source": [
    "import numpy as np\n",
    "import pandas as pd\n",
    "import catboost as ctb\n",
    "import time\n",
    "import matplotlib.pyplot as plt\n",
    "import warnings\n",
    "from sklearn.model_selection import train_test_split\n",
    "from sklearn.metrics import mean_absolute_error"
   ]
  },
  {
   "cell_type": "code",
   "execution_count": 4,
   "metadata": {},
   "outputs": [],
   "source": [
    "warnings.filterwarnings('ignore')"
   ]
  },
  {
   "cell_type": "code",
   "execution_count": 5,
   "metadata": {},
   "outputs": [],
   "source": [
    "data = pd.read_csv(\"train.csv\")\n",
    "ID = data['id']\n",
    "\n",
    "#Drop unnecessary columns\n",
    "data = data.iloc[:,1:]"
   ]
  },
  {
   "cell_type": "code",
   "execution_count": 6,
   "metadata": {},
   "outputs": [],
   "source": [
    "data['log_loss'] = np.log(data['loss'])"
   ]
  },
  {
   "cell_type": "code",
   "execution_count": 7,
   "metadata": {},
   "outputs": [],
   "source": [
    "seed = 7\n",
    "test_size = 0.2"
   ]
  },
  {
   "cell_type": "code",
   "execution_count": 21,
   "metadata": {},
   "outputs": [],
   "source": [
    "n_data = 15000\n",
    "\n",
    "cont_X = data.iloc[0:n_data, 116:130]\n",
    "cat_X = data.iloc[0:n_data, 0:116]\n",
    "X = data.iloc[0:n_data, :130]\n",
    "\n",
    "Y = data.iloc[0:n_data, 130:131]\n",
    "log_Y = data.iloc[0:n_data, 131:132]"
   ]
  },
  {
   "cell_type": "code",
   "execution_count": 22,
   "metadata": {},
   "outputs": [],
   "source": [
    "categorical_features_indices = np.where(X.dtypes != np.float)[0]"
   ]
  },
  {
   "cell_type": "code",
   "execution_count": 28,
   "metadata": {},
   "outputs": [
    {
     "name": "stdout",
     "output_type": "stream",
     "text": [
      "Learning rate set to 0.5\n",
      "0:\tlearn: 0.7001208\ttest: 0.7009874\tbest: 0.7009874 (0)\ttotal: 49.2ms\tremaining: 936ms\n",
      "1:\tlearn: 0.6560405\ttest: 0.6557952\tbest: 0.6557952 (1)\ttotal: 100ms\tremaining: 902ms\n",
      "2:\tlearn: 0.6276096\ttest: 0.6287534\tbest: 0.6287534 (2)\ttotal: 138ms\tremaining: 782ms\n",
      "3:\tlearn: 0.6124749\ttest: 0.6155096\tbest: 0.6155096 (3)\ttotal: 176ms\tremaining: 705ms\n",
      "4:\tlearn: 0.6010961\ttest: 0.6051802\tbest: 0.6051802 (4)\ttotal: 249ms\tremaining: 746ms\n",
      "5:\tlearn: 0.5921939\ttest: 0.5963464\tbest: 0.5963464 (5)\ttotal: 310ms\tremaining: 723ms\n",
      "6:\tlearn: 0.5876032\ttest: 0.5923989\tbest: 0.5923989 (6)\ttotal: 348ms\tremaining: 646ms\n",
      "7:\tlearn: 0.5816869\ttest: 0.5881033\tbest: 0.5881033 (7)\ttotal: 384ms\tremaining: 577ms\n",
      "8:\tlearn: 0.5782377\ttest: 0.5850548\tbest: 0.5850548 (8)\ttotal: 426ms\tremaining: 521ms\n",
      "9:\tlearn: 0.5732240\ttest: 0.5834138\tbest: 0.5834138 (9)\ttotal: 468ms\tremaining: 468ms\n",
      "10:\tlearn: 0.5713029\ttest: 0.5813830\tbest: 0.5813830 (10)\ttotal: 520ms\tremaining: 426ms\n",
      "11:\tlearn: 0.5697078\ttest: 0.5803761\tbest: 0.5803761 (11)\ttotal: 560ms\tremaining: 373ms\n",
      "12:\tlearn: 0.5671570\ttest: 0.5784588\tbest: 0.5784588 (12)\ttotal: 597ms\tremaining: 322ms\n",
      "13:\tlearn: 0.5642543\ttest: 0.5762066\tbest: 0.5762066 (13)\ttotal: 632ms\tremaining: 271ms\n",
      "14:\tlearn: 0.5628335\ttest: 0.5760738\tbest: 0.5760738 (14)\ttotal: 671ms\tremaining: 224ms\n",
      "15:\tlearn: 0.5615769\ttest: 0.5755879\tbest: 0.5755879 (15)\ttotal: 726ms\tremaining: 181ms\n",
      "16:\tlearn: 0.5597173\ttest: 0.5733719\tbest: 0.5733719 (16)\ttotal: 764ms\tremaining: 135ms\n",
      "17:\tlearn: 0.5571149\ttest: 0.5716596\tbest: 0.5716596 (17)\ttotal: 801ms\tremaining: 89.1ms\n",
      "18:\tlearn: 0.5559709\ttest: 0.5712232\tbest: 0.5712232 (18)\ttotal: 838ms\tremaining: 44.1ms\n",
      "19:\tlearn: 0.5547474\ttest: 0.5711475\tbest: 0.5711475 (19)\ttotal: 877ms\tremaining: 0us\n",
      "\n",
      "bestTest = 0.5711474721\n",
      "bestIteration = 19\n",
      "\n",
      "Mean absolute error : 1260.4588123131452\n",
      "-- 1.78500008583 seconds --\n"
     ]
    }
   ],
   "source": [
    "#dummies_X = np.array(pd.get_dummies(cat_X))\n",
    "#new_X = np.c_[dummies_X, cont_X]\n",
    "\n",
    "start_time = time.time()\n",
    "\n",
    "X_train, X_test, y_train, y_test = train_test_split(X, log_Y, test_size=test_size, random_state=seed)\n",
    "\n",
    "y_train = y_train.iloc[:,0]\n",
    "\n",
    "model = ctb.CatBoostRegressor()\n",
    "\n",
    "model.fit(X_train,y_train,cat_features=categorical_features_indices,eval_set=(X_test, y_test))#,plot=True)\n",
    "\n",
    "y_pred = model.predict(X_test)\n",
    "\n",
    "mae = mean_absolute_error(np.exp(y_pred), np.exp(y_test))\n",
    "print(\"Mean absolute error : \" + str(mae))\n",
    "\n",
    "Time = time.time() - start_time\n",
    "print(\"-- \" + str(Time) + \" seconds --\")\n",
    "\n",
    "base_pred = y_pred"
   ]
  },
  {
   "cell_type": "code",
   "execution_count": null,
   "metadata": {},
   "outputs": [],
   "source": []
  },
  {
   "cell_type": "code",
   "execution_count": null,
   "metadata": {},
   "outputs": [],
   "source": []
  }
 ],
 "metadata": {
  "kernelspec": {
   "display_name": "Python 2",
   "language": "python",
   "name": "python2"
  },
  "language_info": {
   "codemirror_mode": {
    "name": "ipython",
    "version": 2
   },
   "file_extension": ".py",
   "mimetype": "text/x-python",
   "name": "python",
   "nbconvert_exporter": "python",
   "pygments_lexer": "ipython2",
   "version": "2.7.15"
  }
 },
 "nbformat": 4,
 "nbformat_minor": 2
}
