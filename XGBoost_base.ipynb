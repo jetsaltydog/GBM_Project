{
 "cells": [
  {
   "cell_type": "code",
   "execution_count": 1,
   "metadata": {},
   "outputs": [],
   "source": [
    "import numpy as np\n",
    "import pandas as pd\n",
    "import xgboost as xgb\n",
    "import time\n",
    "import matplotlib.pyplot as plt\n",
    "import warnings\n",
    "from xgboost import XGBRegressor\n",
    "from sklearn.model_selection import train_test_split\n",
    "from sklearn.metrics import mean_absolute_error\n",
    "from sklearn.preprocessing import OneHotEncoder"
   ]
  },
  {
   "cell_type": "code",
   "execution_count": 2,
   "metadata": {},
   "outputs": [],
   "source": [
    "warnings.filterwarnings('ignore')"
   ]
  },
  {
   "cell_type": "code",
   "execution_count": 3,
   "metadata": {},
   "outputs": [],
   "source": [
    "data = pd.read_csv(\"train.csv\")\n",
    "ID = data['id']\n",
    "\n",
    "#Drop unnecessary columns\n",
    "data = data.iloc[:,1:]"
   ]
  },
  {
   "cell_type": "code",
   "execution_count": 15,
   "metadata": {},
   "outputs": [],
   "source": [
    "data['log_loss'] = np.log(data['loss'])"
   ]
  },
  {
   "cell_type": "code",
   "execution_count": 5,
   "metadata": {},
   "outputs": [],
   "source": [
    "seed = 7\n",
    "test_size = 0.2"
   ]
  },
  {
   "cell_type": "code",
   "execution_count": 12,
   "metadata": {},
   "outputs": [],
   "source": [
    "n_data = 10000\n",
    "\n",
    "cont_X = data.iloc[0:n_data, 116:130]\n",
    "cat_X = data.iloc[0:n_data, 0:116]\n",
    "X = data.iloc[0:n_data, :130]\n",
    "\n",
    "Y = data.iloc[0:n_data, 130:131]\n",
    "log_Y = data.iloc[0:n_data, 131:132]"
   ]
  },
  {
   "cell_type": "code",
   "execution_count": 13,
   "metadata": {},
   "outputs": [
    {
     "name": "stdout",
     "output_type": "stream",
     "text": [
      "Mean absolute error : 1279.667218231201\n",
      "-- 30.5460000038 seconds --\n"
     ]
    }
   ],
   "source": [
    "#One hot encoding of categorical data\n",
    "\n",
    "enc = OneHotEncoder(handle_unknown='ignore')\n",
    "enc.fit(cat_X)\n",
    "\n",
    "OneHot_X = enc.transform(cat_X).toarray()\n",
    "\n",
    "new_X1 = np.c_[OneHot_X, cont_X]\n",
    "\n",
    "start_time = time.time()\n",
    "\n",
    "X_train, X_test, y_train, y_test = train_test_split(new_X1, Y, test_size=test_size, random_state=seed)\n",
    "\n",
    "y_train = y_train.iloc[:,0]\n",
    "model = XGBRegressor()\n",
    "model.fit(X_train,y_train)\n",
    "\n",
    "y_pred = model.predict(X_test)\n",
    "\n",
    "mae = mean_absolute_error(y_pred, y_test)\n",
    "print(\"Mean absolute error : \" + str(mae))\n",
    "\n",
    "Time = time.time() - start_time\n",
    "print(\"-- \" + str(Time) + \" seconds --\")"
   ]
  },
  {
   "cell_type": "code",
   "execution_count": 14,
   "metadata": {},
   "outputs": [
    {
     "name": "stdout",
     "output_type": "stream",
     "text": [
      "Mean absolute error : 1206.9457547509767\n",
      "-- 30.3170001507 seconds --\n"
     ]
    }
   ],
   "source": [
    "#Dummies encoding of categorical data\n",
    "\n",
    "dummies_X = np.array(pd.get_dummies(cat_X))\n",
    "new_X2 = np.c_[dummies_X, cont_X]\n",
    "\n",
    "start_time = time.time()\n",
    "\n",
    "X_train, X_test, y_train, y_test = train_test_split(new_X2, log_Y, test_size=test_size, random_state=seed)\n",
    "\n",
    "y_train = y_train.iloc[:,0]\n",
    "model = XGBRegressor()\n",
    "model.fit(X_train,y_train)\n",
    "\n",
    "y_pred = model.predict(X_test)\n",
    "\n",
    "mae = mean_absolute_error(np.exp(y_pred), np.exp(y_test))\n",
    "print(\"Mean absolute error : \" + str(mae))\n",
    "\n",
    "Time = time.time() - start_time\n",
    "print(\"-- \" + str(Time) + \" seconds --\")"
   ]
  },
  {
   "cell_type": "code",
   "execution_count": 95,
   "metadata": {},
   "outputs": [],
   "source": [
    "stepsize = 10000"
   ]
  },
  {
   "cell_type": "code",
   "execution_count": 17,
   "metadata": {
    "scrolled": true
   },
   "outputs": [],
   "source": [
    "#T_h = []\n",
    "#MAE_h = []\n",
    "#N_h = []\n",
    "#\n",
    "#\n",
    "#\n",
    "#for i in range(1, 10):\n",
    "#    print(i)\n",
    "#    n_data = i*stepsize\n",
    "#    N_h.append(n_data)\n",
    "#    \n",
    "#    cont_X = data.iloc[0:n_data, 116:130]\n",
    "#    cat_X = data.iloc[0:n_data, 0:116]\n",
    "#    X = data.iloc[0:n_data, :130]\n",
    "#\n",
    "#    Y = data.iloc[0:n_data, 130:131]\n",
    "#    \n",
    "#    enc = OneHotEncoder(handle_unknown='ignore')\n",
    "#    enc.fit(cat_X)\n",
    "#\n",
    "#    OneHot_X = enc.transform(cat_X).toarray()\n",
    "#\n",
    "#    new_X1 = np.c_[OneHot_X, cont_X]\n",
    "#\n",
    "#    start_time = time.time()\n",
    "#\n",
    "#    X_train, X_test, y_train, y_test = train_test_split(new_X1, Y, test_size=test_size, random_state=seed)\n",
    "#\n",
    "#    y_train = y_train.iloc[:,0]\n",
    "#    model = XGBRegressor()\n",
    "#    model.fit(X_train,y_train)\n",
    "#\n",
    "#    y_pred = model.predict(X_test)\n",
    "#\n",
    "#    mae = mean_absolute_error(y_pred, y_test)\n",
    "#    MAE_h.append(mae)\n",
    "#\n",
    "#    Time = time.time() - start_time\n",
    "#    T_h.append(Time)"
   ]
  },
  {
   "cell_type": "code",
   "execution_count": 18,
   "metadata": {},
   "outputs": [],
   "source": [
    "#T_d = []\n",
    "#MAE_d = []\n",
    "#N_d = []\n",
    "#\n",
    "#\n",
    "#for i in range(1, 10):\n",
    "#    print(i)\n",
    "#    n_data = i*stepsize\n",
    "#    N_d.append(n_data)\n",
    "#    \n",
    "#    cont_X = data.iloc[0:n_data, 116:130]\n",
    "#    cat_X = data.iloc[0:n_data, 0:116]\n",
    "#    X = data.iloc[0:n_data, :130]\n",
    "#\n",
    "#    Y = data.iloc[0:n_data, 130:131]\n",
    "#    \n",
    "#    dummies_X = np.array(pd.get_dummies(cat_X))\n",
    "#    new_X2 = np.c_[dummies_X, cont_X]\n",
    "#\n",
    "#    start_time = time.time()\n",
    "#\n",
    "#    X_train, X_test, y_train, y_test = train_test_split(new_X2, Y, test_size=test_size, random_state=seed)\n",
    "#\n",
    "#    y_train = y_train.iloc[:,0]\n",
    "#    model = XGBRegressor()\n",
    "#    model.fit(X_train,y_train)\n",
    "#\n",
    "#    y_pred = model.predict(X_test)\n",
    "#\n",
    "#    mae = mean_absolute_error(y_pred, y_test)\n",
    "#    MAE_d.append(mae)\n",
    "#\n",
    "#    Time = time.time() - start_time\n",
    "#    T_d.append(Time)"
   ]
  },
  {
   "cell_type": "code",
   "execution_count": 19,
   "metadata": {},
   "outputs": [],
   "source": [
    "#fig = plt.figure(figsize=(10,5))\n",
    "#ax = fig.add_subplot(111)\n",
    "#ax.set_xlabel('Time (seconds)',fontsize = 14 )\n",
    "#ax.set_ylabel('Mean absolute error (aU)',fontsize = 14)\n",
    "#ax.tick_params(labelsize=14)\n",
    "#ax.set_title('Plot of base XGBoost',fontsize = 20)\n",
    "#ax.plot(T_h, MAE_h, label = 'One-hot encoding')\n",
    "#ax.plot(T_d, MAE_d, label = 'Get dummies')\n",
    "#ax.legend(prop={'size': 15})\n",
    "##ax = formatting_loss(ax)\n",
    "#plt.show()"
   ]
  },
  {
   "cell_type": "code",
   "execution_count": 21,
   "metadata": {},
   "outputs": [],
   "source": [
    "stepsize = 10000"
   ]
  },
  {
   "cell_type": "code",
   "execution_count": 22,
   "metadata": {},
   "outputs": [
    {
     "name": "stdout",
     "output_type": "stream",
     "text": [
      "1\n",
      "2\n",
      "3\n",
      "4\n",
      "5\n",
      "6\n",
      "7\n"
     ]
    }
   ],
   "source": [
    "#Loss\n",
    "\n",
    "N_loss =[]\n",
    "MAE_loss = []\n",
    "T_loss = []\n",
    "\n",
    "for i in range(1, 8):\n",
    "    print(i)\n",
    "    n_data = i*stepsize\n",
    "    N_loss.append(n_data)\n",
    "    \n",
    "    cont_X = data.iloc[0:n_data, 116:130]\n",
    "    cat_X = data.iloc[0:n_data, 0:116]\n",
    "    X = data.iloc[0:n_data, :130]\n",
    "\n",
    "    Y = data.iloc[0:n_data, 130:131]\n",
    "    \n",
    "    dummies_X = np.array(pd.get_dummies(cat_X))\n",
    "    new_X = np.c_[dummies_X, cont_X]\n",
    "\n",
    "    start_time = time.time()\n",
    "\n",
    "    X_train, X_test, y_train, y_test = train_test_split(new_X, Y, test_size=test_size, random_state=seed)\n",
    "\n",
    "    y_train = y_train.iloc[:,0]\n",
    "    model = XGBRegressor()\n",
    "    model.fit(X_train,y_train)\n",
    "\n",
    "    y_pred = model.predict(X_test)\n",
    "\n",
    "    mae = mean_absolute_error(y_pred, y_test)\n",
    "    MAE_loss.append(mae)\n",
    "\n",
    "    Time = time.time() - start_time\n",
    "    T_loss.append(Time)"
   ]
  },
  {
   "cell_type": "code",
   "execution_count": 23,
   "metadata": {},
   "outputs": [
    {
     "name": "stdout",
     "output_type": "stream",
     "text": [
      "1\n",
      "2\n",
      "3\n",
      "4\n",
      "5\n",
      "6\n",
      "7\n"
     ]
    }
   ],
   "source": [
    "#Log(loss)\n",
    "\n",
    "N_log =[]\n",
    "MAE_log = []\n",
    "T_log = []\n",
    "\n",
    "for i in range(1, 8):\n",
    "    print(i)\n",
    "    n_data = i*stepsize\n",
    "    N_log.append(n_data)\n",
    "    \n",
    "    cont_X = data.iloc[0:n_data, 116:130]\n",
    "    cat_X = data.iloc[0:n_data, 0:116]\n",
    "    X = data.iloc[0:n_data, :130]\n",
    "\n",
    "    log_Y = data.iloc[0:n_data, 131:132]\n",
    "    \n",
    "    dummies_X = np.array(pd.get_dummies(cat_X))\n",
    "    new_X = np.c_[dummies_X, cont_X]\n",
    "\n",
    "    start_time = time.time()\n",
    "\n",
    "    X_train, X_test, y_train, y_test = train_test_split(new_X, log_Y, test_size=test_size, random_state=seed)\n",
    "\n",
    "    y_train = y_train.iloc[:,0]\n",
    "    model = XGBRegressor()\n",
    "    model.fit(X_train,y_train)\n",
    "\n",
    "    y_pred = model.predict(X_test)\n",
    "\n",
    "    mae = mean_absolute_error(np.exp(y_pred), np.exp(y_test))\n",
    "    MAE_log.append(mae)\n",
    "\n",
    "    Time = time.time() - start_time\n",
    "    T_log.append(Time)"
   ]
  },
  {
   "cell_type": "code",
   "execution_count": 46,
   "metadata": {},
   "outputs": [
    {
     "data": {
      "image/png": "[encoded data removed]",
      "text/plain": [
       "<Figure size 720x360 with 1 Axes>"
      ]
     },
     "metadata": {
      "needs_background": "light"
     },
     "output_type": "display_data"
    }
   ],
   "source": [
    "fig = plt.figure(figsize=(10,5))\n",
    "ax = fig.add_subplot(111)\n",
    "ax.plot(T_log, MAE_log, 'o')\n",
    "ax.plot(T_log, MAE_log, 'blue', label = 'log(Loss)')\n",
    "ax.plot(T_loss, MAE_loss, 'o')\n",
    "ax.plot(T_loss, MAE_loss, 'orange', label = 'Loss')\n",
    "ax.set_title('Loss vs log(Loss) of the data', size = 20)\n",
    "ax.set_xlabel('Time (seconds)',fontsize = 14 )\n",
    "ax.set_ylabel('Mean absolute error (aU)',fontsize = 14)\n",
    "ax.legend(prop={'size': 20})\n",
    "plt.show()"
   ]
  },
  {
   "cell_type": "code",
   "execution_count": null,
   "metadata": {},
   "outputs": [],
   "source": []
  },
  {
   "cell_type": "code",
   "execution_count": null,
   "metadata": {},
   "outputs": [],
   "source": []
  },
  {
   "cell_type": "code",
   "execution_count": null,
   "metadata": {},
   "outputs": [],
   "source": []
  }
 ],
 "metadata": {
  "kernelspec": {
   "display_name": "Python 2",
   "language": "python",
   "name": "python2"
  },
  "language_info": {
   "codemirror_mode": {
    "name": "ipython",
    "version": 2
   },
   "file_extension": ".py",
   "mimetype": "text/x-python",
   "name": "python",
   "nbconvert_exporter": "python",
   "pygments_lexer": "ipython2",
   "version": "2.7.15"
  }
 },
 "nbformat": 4,
 "nbformat_minor": 2
}
